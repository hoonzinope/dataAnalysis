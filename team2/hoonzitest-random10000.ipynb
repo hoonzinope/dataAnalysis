{
 "cells": [
  {
   "cell_type": "code",
   "execution_count": 2,
   "metadata": {},
   "outputs": [
    {
     "name": "stdout",
     "output_type": "stream",
     "text": [
      "mpd.slice.728000-728999.json\n",
      "mpd.slice.955000-955999.json\n",
      "mpd.slice.877000-877999.json\n",
      "mpd.slice.989000-989999.json\n",
      "mpd.slice.564000-564999.json\n",
      "mpd.slice.679000-679999.json\n",
      "mpd.slice.166000-166999.json\n",
      "mpd.slice.158000-158999.json\n",
      "mpd.slice.936000-936999.json\n",
      "mpd.slice.138000-138999.json\n"
     ]
    }
   ],
   "source": [
    "import os\n",
    "import numpy as np\n",
    "import pandas as pd\n",
    "import json\n",
    "from pandas.io.json import json_normalize\n",
    "from sklearn.model_selection import train_test_split\n",
    "\n",
    "path_dir = '/root/team2/data_test'\n",
    "file_list = os.listdir(path_dir)\n",
    "\n",
    "import json\n",
    "head = []\n",
    "count = 0\n",
    "for f in file_list:\n",
    "    print f\n",
    "    with open(\"/root/team2/data_test/\"+f, 'rb') as infile:\n",
    "        file_data = json.load(infile)\n",
    "        playlist = file_data['playlists']\n",
    "        df = pd.DataFrame(playlist)\n",
    "        head += [df]\n",
    "        count += 1\n",
    "        if(count == 10):\n",
    "            break;\n",
    "df = pd.concat(head, ignore_index = True)"
   ]
  },
  {
   "cell_type": "code",
   "execution_count": null,
   "metadata": {},
   "outputs": [
    {
     "name": "stdout",
     "output_type": "stream",
     "text": [
      "0th try....\n",
      "precision : 0.0048371001621\n",
      "recall : 0.0313286116367\n",
      "f1score : 0.0083802930947\n",
      "1th try....\n"
     ]
    }
   ],
   "source": [
    "import random\n",
    "k = 10\n",
    "topic_num = 7\n",
    "kfold = [df[i:i + len(df)/k] for i in xrange(0, len(df), len(df)/k)]\n",
    "\n",
    "max_f1score = 0\n",
    "min_f1score = 1\n",
    "average_f1score = 0\n",
    "for idx in range(0, k):\n",
    "    print \"{}th try....\".format(idx)\n",
    "    test_df = kfold[idx].reset_index()\n",
    "    \n",
    "    train_df = []\n",
    "    for tidx in range(0, k):\n",
    "        if(tidx == idx):\n",
    "            continue\n",
    "        train_df += [kfold[tidx]]\n",
    "    train_df = pd.concat(train_df, ignore_index = True)\n",
    "    \n",
    "    train_playlist_name = list(set(train_df['name']))\n",
    "    test_playlist_name = list(set(test_df['name']))\n",
    "    \n",
    "    precision = 0\n",
    "    recall = 0\n",
    "    f1score = 0\n",
    "    count = 0\n",
    "    for name in test_playlist_name:\n",
    "        count += 1\n",
    "        #print count\n",
    "        test_playlist = []\n",
    "        for idx in range(0, len(test_df['name'])):\n",
    "            if(test_df['name'][idx] == name):\n",
    "                test = pd.DataFrame(test_df['tracks'][idx])\n",
    "                test_playlist += list(test['track_uri'])\n",
    "\n",
    "        random_train_playlist_name = random.sample(train_playlist_name, 10)\n",
    "        train_playlist = []\n",
    "        for train_name in random_train_playlist_name:\n",
    "            for idx in range(0, len(train_df['name'])):\n",
    "                if(train_df['name'][idx] == train_name):\n",
    "                    train = pd.DataFrame(train_df['tracks'][idx])\n",
    "                    temp =[]\n",
    "                    if(len(train_playlist) >= 500):\n",
    "                        continue\n",
    "                    elif(len(train_playlist) + len(list(train['track_uri'])) >= 500):\n",
    "                        temp = list(train['track_uri'])\n",
    "                        train_playlist += temp[:-(len(train_playlist)-500)]\n",
    "                    else:\n",
    "                        train_playlist += list(train['track_uri'])\n",
    "\n",
    "        precision += 1.0 *len(set(train_playlist).intersection(set(test_playlist)))/len(set(train_playlist))\n",
    "        recall += 1.0 * len(set(train_playlist).\n",
    "                                intersection(set(test_playlist)))/len(set(test_playlist))\n",
    "\n",
    "    precision = 1.0 * precision/ (count)\n",
    "    recall = 1.0 * recall / count\n",
    "    f1score = (2 * precision * recall) / (precision + recall)\n",
    "    print \"precision : {}\\nrecall : {}\\nf1score : {}\".format(precision, recall, f1score)\n",
    "    \n",
    "    if(min_f1score > f1score):\n",
    "        min_f1score = f1score\n",
    "    if(max_f1score < f1score):\n",
    "        max_f1score = f1score\n",
    "    \n",
    "    average_f1score += f1score\n",
    "\n",
    "average_f1score = average_f1score/10\n",
    "print \"minF1score : {}, maxF1score: {}, averageF1score: {}\".format(min_f1score, max_f1score, average_f1score)"
   ]
  },
  {
   "cell_type": "code",
   "execution_count": null,
   "metadata": {
    "collapsed": true
   },
   "outputs": [],
   "source": []
  }
 ],
 "metadata": {
  "kernelspec": {
   "display_name": "Python 2",
   "language": "python",
   "name": "python2"
  },
  "language_info": {
   "codemirror_mode": {
    "name": "ipython",
    "version": 2
   },
   "file_extension": ".py",
   "mimetype": "text/x-python",
   "name": "python",
   "nbconvert_exporter": "python",
   "pygments_lexer": "ipython2",
   "version": "2.7.12"
  }
 },
 "nbformat": 4,
 "nbformat_minor": 2
}
