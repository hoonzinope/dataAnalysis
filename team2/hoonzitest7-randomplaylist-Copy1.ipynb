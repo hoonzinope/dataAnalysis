{
 "cells": [
  {
   "cell_type": "code",
   "execution_count": 9,
   "metadata": {
    "collapsed": true
   },
   "outputs": [],
   "source": [
    "import numpy as np\n",
    "import pandas as pd\n",
    "import json\n",
    "from pandas.io.json import json_normalize\n",
    "from sklearn.model_selection import train_test_split\n",
    "import random"
   ]
  },
  {
   "cell_type": "code",
   "execution_count": 42,
   "metadata": {
    "collapsed": true
   },
   "outputs": [],
   "source": [
    "def make_category_1(file_path):\n",
    "\n",
    "\n",
    "    f = open(file_path).read()\n",
    "    data = json.loads(f)\n",
    "    playlists = data[\"playlists\"]\n",
    "    df = pd.DataFrame(playlists)\n",
    "    train, test = train_test_split(df, test_size=0.1)\n",
    "\n",
    "    r_test_data = {'pid' : list(test['pid']), 'name' : list(test['name']), 'num_holdouts' : list(test['num_tracks']), 'tracks' : [{} for _ in range(test.shape[0])], 'num_samples' : [0 for _ in range(test.shape[0])], 'num_tracks' : test['num_tracks']}\n",
    "    r_test = pd.DataFrame(r_test_data)\n",
    "    \n",
    "    train = train.T.to_dict().values()\n",
    "    test = test.T.to_dict().values()\n",
    "    r_test = r_test.T.to_dict().values()\n",
    "    \n",
    "    with open('./train.json', 'w+') as f:\n",
    "        f.write(json.dumps(train))\n",
    "    with open('./test_R.json', 'w+') as f:\n",
    "        f.write(json.dumps(test))\n",
    "    with open('./test.json', 'w+') as f:\n",
    "        f.write(json.dumps(r_test))\n",
    "        \n",
    "        \n",
    "make_category_1('mpd.slice.0-999.json')"
   ]
  },
  {
   "cell_type": "markdown",
   "metadata": {},
   "source": [
    "<h1> Train_set </h1>"
   ]
  },
  {
   "cell_type": "code",
   "execution_count": 43,
   "metadata": {
    "collapsed": true
   },
   "outputs": [],
   "source": [
    "f = open('./train.json').read()\n",
    "data = json.loads(f)\n",
    "train_df = pd.DataFrame(data)"
   ]
  },
  {
   "cell_type": "markdown",
   "metadata": {},
   "source": [
    "<h1> Test_set </h1>"
   ]
  },
  {
   "cell_type": "code",
   "execution_count": 44,
   "metadata": {
    "collapsed": true
   },
   "outputs": [],
   "source": [
    "f = open('./test_R.json').read()\n",
    "data = json.loads(f)\n",
    "test_df = pd.DataFrame(data)"
   ]
  },
  {
   "cell_type": "markdown",
   "metadata": {},
   "source": [
    "<h1> Train_set_name & Test_set_name </h1>"
   ]
  },
  {
   "cell_type": "code",
   "execution_count": 45,
   "metadata": {
    "scrolled": true
   },
   "outputs": [
    {
     "name": "stdout",
     "output_type": "stream",
     "text": [
      "[u'This Is What You Came For', u'Winter', u'Pregame', u'dance', u'Relaxing Music', u'ale', u'Sugar', u'Say My Name', u'sleep', u'ELECTRONICAS', u'lit songs ', u'The Mix', u'taylor swift', u'mellow', u'classic rock', u'twenty sixteen', u'R&B', u' Frozen', u'guitar.', u'Sweat.It.Out.', u'Disney', u'Dinner Party', u'Beautiful Things', u'\\U0001f608\\U0001f608\\U0001f608', u'tb', u'Feel Good', u'Tennessee ', u'nite', u'EDC', u'car playlist', u'Summer Playlist', u'tears.', u'Stuff', u'TRIPPIn', u'thinking of you', u'Rock en espa\\xf1ol ', u\"Don't\", u'\\U0001f3b5\\U0001f3b5', u'september ', u'Summer drives', u'Mixtape', u'vibes', u'sb2k17', u'Road Trip Mix', u'Wedding Songs', u'Get pumped ', u'Panda', u'Kevin', u'musicals', u'PlayStation', u'Playlist', u'good good', u'Hockey', u'running ', u'Lit af', u'90s', u'my heart', u'The Drive', u'halloweenie', u'Hawaii', u'BUMP', u'For the Road', u\"Feelin' Myself\", u'new', u'America', u'Spring 2015', u'melancholy', u'oldies', u'Smooth', u'summer playlist', u'\\U0001f525\\U0001f525\\U0001f525\\U0001f525', u'Tejano', u'Tangled', u'Alright', u'New Music', u'David', u'Silence', u'My Musics', u'My favs', u'main playlist', u'Chill Sesh', u'study', u'Marshall ', u'Christmastime', u'volleyball playlist ', u'favs rn', u'spring 16', u'Go to ', u'Alternative', u'Yeet', u'Chillout ', u'#Workout', u'love', u'Running 2', u'Studying', u'roadtrippin', u'Maui', u'randoms', u'2000s', u'RAVE', u'Aux', u'\\U0001f60d\\U0001f60d\\U0001f60d', u'regaton ', u'Mix Tape', u\"february '17\", u'mood music', u'Xmas', u'dance it out', u'\\U0001f49b\\U0001f49b', u'Michelle ', u'music', u\"summer '17\", u'Wedding', u'Best Songs of 2016', u'Good stuff', u'Summer of love', u'Worship ', u'relax', u'Volleyball', u'XXXMas', u'Old Rock', u'2k17', u'jazzy ', u'90s hip hop', u'2pac', u'RUNNIN', u'Sunny Days', u'mb', u'90s alternative', u'ride', u'work', u'eclipse', u'soul', u'Catchy Songs', u'Traveling', u'Summer Party', u'SB', u'songs that make me think of you ', u'beautiful', u'Star Wars', u'stream', u'Mia', u'december', u'TOP', u'high', u'Daze', u'April 2016', u'Party', u'Alt Jams', u'Christmas', u'jesus jams', u'winter', u'w o r k o u t', u'LM', u'VACATION', u'\\u26a1\\ufe0f', u'Wave', u'Meow', u'sunday', u'BUST A MOVE', u'Fall', u'beach', u'Bang Bang ', u'KPOP', u'new new', u'Isis', u'mat', u'Easy Listening ', u'Top hits', u'Workout', u'dad songs', u'the mix', u'Gospel', u'random songs', u'Alexia', u'recovery', u'Disney Jams', u'car playlist ', u'Broadway Baby', u'chillen', u'Long Car Rides', u'explicit', u'Jammin', u'SEPTEMBER 2017', u'party playlist', u'top down', u'Country summer', u'Litty ', u'Workout2', u'Electronic Music', u'Christmas songs ', u'Love ', u'Happy Happy Happy', u'korean ', u'Bad and Boujee', u'Atlas', u'broadway', u'throw backs', u'Country favorites', u'\\U0001f1f2\\U0001f1fd\\U0001f1f2\\U0001f1fd\\U0001f1f2\\U0001f1fd', u'jamz', u'ROAR', u'Throwbacks', u'nostalgia', u'PARTY ', u'chill out', u'Legendary', u'Sad Songs', u'#boostyourrun', u'2017', u'2016', u'2013', u'2012', u'Chill Rock', u'Ashley', u'yo', u'workout', u'Kyle', u'Two', u'motivational ', u'rap mix', u\"90's \", u'FALL 2013', u'now', u'Summer', u'dank memes', u'Solitude', u'Swing', u\"Music From Baz Luhrmann's Film The Great Gatsby\", u'Musicals', u'Rap', u'rock', u'Rave', u'acoustic', u'Calming Music', u'West Coast Swing', u'Move', u'LIT!!!!!!!', u\"spring '17\", u'spanish', u'Pearl Jam', u'Working Out', u'FUN', u'Sierre\\xf1o', u'turn up', u'Christmas music', u'trending', u'Relaxing', u'JAMS', u'Local', u'recommendations !! ', u'October 2017', u'in my feels', u'stuff', u'old people', u'Saturn', u'Brasileiras', u'Reggae', u'Spring 2016', u'Current jams', u'Work', u'Metal', u'Wedding Dance Party', u'kayla', u'bumps', u'Waltz', u'Reception', u'Mixed', u'xmas party', u'Christmas 2016', u'spanish jams', u'summer 2k17', u'ODESZA', u'english', u'TBT', u'Winter 2014', u'bird', u'funky', u'Sunrise', u'Good Stuff', u'Rock alternativo', u'mello', u'Cancun', u'cheese', u'Samba', u'Songs I Like', u'LUV', u'ATL', u'Britney', u'xx', u'Black', u\"Summer '16\", u'Baby shower', u'Wet Dreamz', u'electronic', u'SPRANG', u'playlist', u'R & B', u'ease ~', u'I workout!', u'DIEGO$', u'Dubstep ', u'Feels', u'Lit\\U0001f525\\U0001f525', u'My music', u'rawr', u'Lifting ', u'Musica', u' indie rock', u'BBG', u'Mega Chill', u'Zombies', u'Fun', u'rock songs', u'Road', u'Party mix', u'Ladies', u'On the Run', u'Love', u'14', u'Classical', u'Party Rock!!', u'blue grass', u'Intro', u'2020', u'chill beats', u'happy', u'Elisa', u'Get It!', u'CHRISTMASSSSS', u'Bus playlist', u'Peace', u'mine', u'sad', u'Current', u'Cali', u'rap', u\"summer 16'\", u'picks', u'Random Tunes', u'Classical favorites', u'my favorite songs', u'My Heart', u'greek', u'Club', u' CHiLl', u'PARTY 1', u'1967', u'Latin Trap', u'POP', u'Girl Power', u'lit', u'mix', u'mix ', u'Partay', u'NICOLE', u'siesta', u'Hungover', u'Rap/Pop', u'mayer', u'\\U0001f924\\U0001f924', u'Shape of You', u'Groovy', u'eurotrip', u'shower ', u'Garage Rock', u'Melting Pot', u'roma', u'Julion alvarez', u'My favorites', u'Pump up', u'The Greatest', u'Go To', u'My High-Intensity Workout', u'New Songs', u'Car Party', u'( \\u0361\\xb0 \\u035c\\u0296 \\u0361\\xb0)', u'\\U0001f60d\\U0001f60d', u'flow', u'Way Up', u'High', u'Not Rap', u'Deep Thoughts', u\"80's\", u'Gospel Mix', u'jan 2015', u'Country Favorites', u'bomb', u'Smooth Jazz', u'Seduction', u'July 2013', u'discovered', u'teenage angst', u'Dance mix', u\"90's\", u'Slow Stuff', u'Ski', u'slow', u'Mad Men', u'frenchy', u'Gym', u'For You', u'Old songs ', u'studying music', u'Guilty pleasure', u'folky', u'Belters', u'groovy', u'That New New', u'Summer 2016', u'older songs', u'Punk', u'Turnt', u'go to', u'feels', u'Take Me Back', u'Awesome mix vol. 1', u'car rides', u'feelz', u'Wandering', u'tbd', u'ghetto', u'Zoned', u'Random', u'morning', u'Summer Chill', u'bae', u'hip hop', u'hype', u'Tom Petty', u'Fall 2015', u'Holiday Party', u'summer 2016', u'summer 2015', u'dance yrself clean', u'Driving', u'Thinking', u'vibin', u'Somber', u'petrichor', u'\\U0001f4b8\\U0001f4b8', u'Kickin it', u'Rap Songs', u'2000s hits', u'Chidas', u'smooth ', u'Eminem ', u'Homework', u'slow hands', u'shower', u'space jams', u'PT', u'Good songs', u'motown', u'70/80', u'Rock', u'pump', u'doo wop', u'Chill Alternative', u'hitS', u'latin', u'Australia Day', u'Tame Impala', u'nashville', u'Florida', u'Grind', u'run it', u'goldie', u'death', u'Summer Country', u'kitchen', u'Dance', u'country', u'quiet', u'car tunes', u'Lit', u'Cody', u'Dark Side', u'Worship', u\"vibin'\", u'whatever', u'beachy', u'raw', u'Willie', u'Mellow.', u'boat', u'pregame', u'Relax', u'\\U0001f308\\U0001f308\\U0001f308', u'BEST SONGS EVER', u'boujee', u'three', u'indie rock ', u'New School', u'Phone', u'Running 2.0', u'#mood', u'Buena Vista Social Club', u'Party time', u'Pump up songs', u'basic', u'upbeat', u'Chill Songs', u'Game Time', u'FNAF', u'empty', u'Arab', u'HER', u'Twenty one pilots', u'for you', u'cake ', u'More Songs', u'Up Beat', u'Narcos', u'CR', u'Music.', u'spin', u'New years', u'chill', u'sound', u'The Classics', u'Traps ', u'Classic', u'Vibin', u'Disney!', u'will', u'Party Playlist', u'Dubstep', u'WORSHIP', u'<3', u'GET DOWN', u'\\u26a1\\ufe0f\\u26a1\\ufe0f\\u26a1\\ufe0f', u'mixtape', u'00s', u'Country Mix', u'Covers', u'Cha Cha', u'Run!!', u'HOOD', u'art class', u'Main', u'GUACAMOLE', u'VIBE', u'Luke', u'Dope', u'Awesome Mix', u'good vibes', u'Mr. Brightside', u'party', u'electro', u'oldies but goodies ', u'80s', u'#chill', u'II', u'running', u'000', u'My happy place', u'Hype', u'Cruising', u'YOU', u'Classic Rock', u'Gates', u'roadtrip \\U0001f697', u'ashley', u'Slay', u'EBM', u\"early 2000's\", u'Lulu', u'Mine', u'Rap it up', u'Everyday', u'PURPLE', u'Old School', u'Rent', u'Gold Digger', u'Favorite Songs', u'\\U0001f634\\U0001f634', u'kpop', u'summer', u'nc', u'Piano Music', u'BOP', u'ol skool', u'OOOUUU', u'Songs I Love', u'PARTY', u'Comedy', u'hayley', u'Reggae/Ska', u'Wedding Cocktail Hour', u'before my time', u'Reggaeton', u'family', u'\\u2714\\ufe0f', u'run 2', u'Soulful  ', u'Fallout', u'GOOD MUSIC ', u'SARAH', u'Hits', u\"Mom's playlist\", u'feel good', u'Throwbacks ', u'old songs ', u'Drake', u\"Road Trippin'\", u'pop', u'English ', u'Thuggin', u'CARDIO', u'Band Music', u'Elliot', u'country ', u'road trip ', u'OD', u'workout mix', u'Friday afternoon...', u'songs to sing in the shower', u'Wes Anderson', u'Mya', u'Music', u'New jams', u'Breezeblocks', u'Pitch Perfect', u'2K14', u'Sleep~', u'old', u'\\U0001f595\\U0001f3fb', u'PARTY PLAYLIST', u'joSe :)', u'bounce', u'Tropical', u'summer16', u'New', u'Cinco De Mayo', u'disney bops', u'maY!', u'modern rock', u'classic ', u'bruno mars', u'Rage', u'lean', u'Dancehall', u'everything', u'Dave', u'4/20', u'party music', u'Throwback', u'KILLA', u'christmas', u'2000s r&b', u'trap', u'uhhhh', u'run', u'old but good', u'\\U0001f63b\\U0001f63b', u'I Put A Spell On You', u'JAZZ', u'Up', u'my songs ', u'Funky', u'Christmas Mix', u'Indie Stuff', u'*** good stuff', u'throwback', u'Acoustic', u'CHRISTMAS', u'Blackout', u'Upbeat Songs ', u'Top Hits', u'elevator music', u'old school', u'Prayer', u'classics', u'go-to', u'Best', u'Christian music', u'//new', u'Neo', u'Vibe', u'Various Artists \\u2013 Majestic Casual - Chapter I', u'Everything', u'Corridos', u'wrap', u'NEW', u'Korean', u'Latino', u'Best EDM', u'4th of july', u'classical', u'Oldies', u'Heat', u'NB', u'hey', u'Wedding Dance Music', u'Amy', u'summer 17', u'house', u'L O V E ', u'My hits', u'The Piano Guys', u'Chill', u'Classic Country', u'Congratulations', u'.jams.', u'\\U0001f483\\U0001f3fd', u'Sundays', u'Daddy Issues', u'brad paisley ', u'~Rando~', u'My baby', u'best christmas', u'Deb', u'ha', u'YEET', u'rap god', u'New ish', u'LITT ', u'Summer 2014', u'Office', u'Awesome Playlist', u'Chill Out Music', u'Awesome', u'Fire', u'Tripping', u'Britt', u'angst', u'Best of 2016', u'Helene', u'Dancing on my own', u'Blues', u'MY FAV', u'Salsa clasica', u'new stuff', u'HARDCORE WORKOUT', u'classic', u'Cinderella', u'deep', u'Roadtrip', u'Christian Songs', u'old country ', u'Rap Classics', u'Pop', u'90s hits', u'R&B classics', u'Alternativo ', u'All the songs', u'Baby Making', u'yoga', u'bored', u'abby ', u'Instrumental', u'Running', u'MERICA', u'Fix You', u\"Killin' It\", u'hoe anthems', u'AA', u'poop', u'songs to dance to', u'Country', u'((chris))', u'Mumford & Sons', u'june', u'Cash', u'my country', u'Hyphy', u'Shower', u'April', u'chill time', u'country 2017', u'SUMMER 2k17', u'Madness', u'Main Playlist', u'Walking on Sunshine', u\"Vibin'\", u'INDY', u'Yeah', u'karaoke.', u\"2000's \", u'Sleep', u\"1980's\", u'Spanish', u'Thug', u\"It's Christmas Time!\", u'Runaway']\n",
      "\n",
      "[u'Old School ', u'Spring16', u'ouch', u'fuego', u'sleep', u'Wedding Cocktail Hour', u'Gym', u'Good Vibes', u'Chill Out', u'take me back', u'Good Times', u'wake up', u'tb', u'boris', u'Roadtrip', u'bang bang. ', u'Camp', u'summer country', u'ROCK\\U0001f3b8', u'\\U0001f62d\\U0001f62d', u'WORKOUT', u'Indie', u'rock', u'CHRISTMAS MUSIC', u'smooth jams', u'Crossfit', u'Tegan and Sara', u'DISCOVER', u'dubstep', u'Elizabeth', u'issa playlist', u'housewarming', u\"winter '17\", u'\\U0001f918\\U0001f3fc', u'Chris', u'Inspiration', u'Good Day', u'oldies', u'Me Like', u'ALT', u'90s baby', u'Old songs', u'Christmas Favorites', u'party people', u'its lit', u\"Say You Won't Let Go\", u'Autumnal ', u'Mashup', u'Drank', u'Sad songs', u'spanish ', u'Disney', u'Kendrick Lamar ', u'#Relaxed', u'SpRiNg BrEaK', u'Oldies', u'Dusk', u'Christmas Time', u'I like these songs', u'Baes', u'Disneyland', u\"John's Playlist\", u'Lent', u'Clubbin', u'pg', u'RAP', u'relax', u'Volleyball', u'2015', u'Life ', u'Emotional', u'Sleep Music', u\"fall '17\", u'Musica en espa\\xf1ol', u'Classical', u'car', u'halcyon', u'Line Dances ', u'Chill', u'AAA', u'Good music ', u'DA', u'Greatest Hits', u'Love Music', u'no', u'The Good Stuff', u'chill  ', u'Edward Sharpe & The Magnetic Zeros', u'work music', u'party', u'reggae', u'Country', u'Chill music ', u'Gospel', u'Cruisin', u\"1990's \", u'HALLOWEEN', u'Another', u'Trip']\n"
     ]
    }
   ],
   "source": [
    "train_playlist_name = list(set(train_df['name']))\n",
    "test_playlist_name = list(set(test_df['name']))\n",
    "\n",
    "print train_playlist_name\n",
    "print\n",
    "print test_playlist_name"
   ]
  },
  {
   "cell_type": "code",
   "execution_count": 54,
   "metadata": {},
   "outputs": [
    {
     "data": {
      "text/plain": [
       "[u'dad songs',\n",
       " u'Lit af',\n",
       " u'jazzy ',\n",
       " u'The Classics',\n",
       " u'shower ',\n",
       " u'Office',\n",
       " u'Christmas music',\n",
       " u'summer16',\n",
       " u'2020',\n",
       " u'electronic']"
      ]
     },
     "execution_count": 54,
     "metadata": {},
     "output_type": "execute_result"
    }
   ],
   "source": [
    "rand_items = random.sample(train_playlist_name,10)\n",
    "rand_items"
   ]
  },
  {
   "cell_type": "markdown",
   "metadata": {},
   "source": [
    "<h3> random_playlist_recom </h3>"
   ]
  },
  {
   "cell_type": "code",
   "execution_count": null,
   "metadata": {
    "scrolled": true
   },
   "outputs": [],
   "source": [
    "c = 0\n",
    "count = 0\n",
    "for name in test_playlist_name:\n",
    "    count += 1\n",
    "   # print count\n",
    "    test_playlist = []\n",
    "    for idx in range(0, len(test_df['name'])):\n",
    "        if(test_df['name'][idx] == name):\n",
    "            test = pd.DataFrame(test_df['tracks'][idx])\n",
    "            test_playlist += list(test['track_uri'])\n",
    "            \n",
    "    random_train_playlist_name = random.sample(train_playlist_name, 10)\n",
    "    train_playlist = []\n",
    "    for train_name in random_train_playlist_name:\n",
    "        for idx in range(0, len(train_df['name'])):\n",
    "            if(train_df['name'][idx] == train_name):\n",
    "                train = pd.DataFrame(train_df['tracks'][idx])\n",
    "                temp =[]\n",
    "                \n",
    "                train_playlist += list(train['track_uri'])\n",
    "                \n",
    "    c +=1.0 *len(set(train_playlist).intersection(set(test_playlist)))/len(set(test_playlist)) *100\n",
    "    \n",
    "    \n",
    "c = 1.0 * c/ count\n",
    "print c"
   ]
  },
  {
   "cell_type": "code",
   "execution_count": null,
   "metadata": {
    "collapsed": true
   },
   "outputs": [],
   "source": []
  }
 ],
 "metadata": {
  "kernelspec": {
   "display_name": "Python 2",
   "language": "python",
   "name": "python2"
  },
  "language_info": {
   "codemirror_mode": {
    "name": "ipython",
    "version": 2
   },
   "file_extension": ".py",
   "mimetype": "text/x-python",
   "name": "python",
   "nbconvert_exporter": "python",
   "pygments_lexer": "ipython2",
   "version": "2.7.12"
  }
 },
 "nbformat": 4,
 "nbformat_minor": 2
}
