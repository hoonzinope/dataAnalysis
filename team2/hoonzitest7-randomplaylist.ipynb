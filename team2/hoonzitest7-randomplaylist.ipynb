{
 "cells": [
  {
   "cell_type": "code",
   "execution_count": 6,
   "metadata": {
    "collapsed": true
   },
   "outputs": [],
   "source": [
    "import numpy as np\n",
    "import pandas as pd\n",
    "import json\n",
    "from pandas.io.json import json_normalize\n",
    "from sklearn.model_selection import train_test_split\n",
    "import random"
   ]
  },
  {
   "cell_type": "code",
   "execution_count": 2,
   "metadata": {
    "collapsed": true
   },
   "outputs": [],
   "source": [
    "def make_category_1(file_path):\n",
    "\n",
    "\n",
    "    f = open(file_path).read()\n",
    "    data = json.loads(f)\n",
    "    playlists = data[\"playlists\"]\n",
    "    df = pd.DataFrame(playlists)\n",
    "    train, test = train_test_split(df, test_size=0.1)\n",
    "\n",
    "    r_test_data = {'pid' : list(test['pid']), 'name' : list(test['name']), 'num_holdouts' : list(test['num_tracks']), 'tracks' : [{} for _ in range(test.shape[0])], 'num_samples' : [0 for _ in range(test.shape[0])], 'num_tracks' : test['num_tracks']}\n",
    "    r_test = pd.DataFrame(r_test_data)\n",
    "    \n",
    "    train = train.T.to_dict().values()\n",
    "    test = test.T.to_dict().values()\n",
    "    r_test = r_test.T.to_dict().values()\n",
    "    \n",
    "    with open('./train.json', 'w+') as f:\n",
    "        f.write(json.dumps(train))\n",
    "    with open('./test_R.json', 'w+') as f:\n",
    "        f.write(json.dumps(test))\n",
    "    with open('./test.json', 'w+') as f:\n",
    "        f.write(json.dumps(r_test))\n",
    "        \n",
    "        \n",
    "make_category_1('mpd.slice.0-999.json')"
   ]
  },
  {
   "cell_type": "markdown",
   "metadata": {},
   "source": [
    "<h1> Train_set </h1>"
   ]
  },
  {
   "cell_type": "code",
   "execution_count": 3,
   "metadata": {
    "collapsed": true
   },
   "outputs": [],
   "source": [
    "f = open('./train.json').read()\n",
    "data = json.loads(f)\n",
    "train_df = pd.DataFrame(data)"
   ]
  },
  {
   "cell_type": "markdown",
   "metadata": {},
   "source": [
    "<h1> Test_set </h1>"
   ]
  },
  {
   "cell_type": "code",
   "execution_count": 4,
   "metadata": {
    "collapsed": true
   },
   "outputs": [],
   "source": [
    "f = open('./test_R.json').read()\n",
    "data = json.loads(f)\n",
    "test_df = pd.DataFrame(data)"
   ]
  },
  {
   "cell_type": "markdown",
   "metadata": {},
   "source": [
    "<h1> Train_set_name & Test_set_name </h1>"
   ]
  },
  {
   "cell_type": "code",
   "execution_count": 5,
   "metadata": {
    "scrolled": true
   },
   "outputs": [
    {
     "name": "stdout",
     "output_type": "stream",
     "text": [
      "[u'This Is What You Came For', u'Winter', u'dance', u'Relaxing Music', u'ale', u'Say My Name', u'sleep', u'ELECTRONICAS', u'lit songs ', u'The Mix', u'taylor swift', u'classic rock', u'Music.', u'twenty sixteen', u'R&B', u' Frozen', u'guitar.', u\"winter '17\", u'Sweat.It.Out.', u'Dinner Party', u'Beautiful Things', u'\\U0001f608\\U0001f608\\U0001f608', u'tb', u'sound', u'Feel Good', u'Tennessee ', u'bang bang. ', u'EDC', u'car playlist', u'Summer Playlist', u'tears.', u'Stuff', u'TRIPPIn', u'thinking of you', u'ROCK\\U0001f3b8', u'Rock en espa\\xf1ol ', u\"Don't\", u'\\U0001f3b5\\U0001f3b5', u'september ', u'Summer drives', u'Mixtape', u'vibes', u'sb2k17', u'Road Trip Mix', u'Wedding Songs', u'Get pumped ', u'Panda', u'Kevin', u'musicals', u'PlayStation', u'Playlist', u'good good', u'Tegan and Sara', u'Hockey', u'running ', u'Lit af', u'90s', u'my heart', u'issa playlist', u'The Drive', u'halloweenie', u'Hawaii', u'For the Road', u\"Feelin' Myself\", u'new', u'Sleep Music', u'America', u'Spring 2015', u'melancholy', u'oldies', u'Smooth', u'summer playlist', u'Tejano', u'Tangled', u'Alright', u'New Music', u'David', u'My Musics', u'My favs', u'main playlist', u'Chill Sesh', u'study', u'Marshall ', u'Christmastime', u'volleyball playlist ', u'spring 16', u'Go to ', u'Yeet', u'its lit', u'love', u'family', u'Studying', u'roadtrippin', u'spanish', u'Maui', u'randoms', u'2000s', u'RAVE', u'Aux', u'#Relaxed', u'\\U0001f60d\\U0001f60d\\U0001f60d', u'regaton ', u'Mix Tape', u\"february '17\", u'dance it out', u'\\U0001f49b\\U0001f49b', u'Michelle ', u'music', u\"summer '17\", u'Wedding', u'Best Songs of 2016', u'Good stuff', u'The Classics', u'Summer of love', u'Worship ', u'relax', u'Upbeat Songs ', u'Volleyball', u'XXXMas', u'wake up', u'Old Rock', u'Life ', u'2k17', u'jazzy ', u'90s hip hop', u'2pac', u'RUNNIN', u'Sunny Days', u'mb', u'90s alternative', u'car', u'ride', u'work', u'eclipse', u'soul', u'Catchy Songs', u'Traveling', u'Summer Party', u'SB', u'ALT', u'songs that make me think of you ', u'beautiful', u'Star Wars', u'stream', u'december', u'TOP', u'high', u'Gym', u'Daze', u'April 2016', u'Party', u'Christmas', u'jesus jams', u'winter', u'w o r k o u t', u'LM', u'VACATION', u'\\u26a1\\ufe0f', u'Wave', u'Meow', u'sunday', u'BUST A MOVE', u'Fall', u'beach', u'Bang Bang ', u'KPOP', u'new new', u'mat', u'Easy Listening ', u'Chill music ', u'the mix', u'Gospel', u'random songs', u'Alexia', u'recovery', u'Disney Jams', u'car playlist ', u'Broadway Baby', u'chillen', u'Long Car Rides', u'explicit', u'Jammin', u'SEPTEMBER 2017', u'party playlist', u'top down', u'Another', u'Litty ', u'Trip', u'Electronic Music', u'Old School ', u'I like these songs', u'Spring16', u'Happy Happy Happy', u'korean ', u'Bad and Boujee', u'Atlas', u'broadway', u'space jams', u'Country favorites', u'\\U0001f1f2\\U0001f1fd\\U0001f1f2\\U0001f1fd\\U0001f1f2\\U0001f1fd', u'jamz', u'ROAR', u'Throwbacks', u'nostalgia', u'Good Vibes', u'Chill Out', u'Legendary', u'Sad Songs', u'2015', u'#boostyourrun', u'2017', u'2016', u'2013', u'2012', u'Chill Rock', u'Ashley', u'yo', u'workout', u'Two', u'motivational ', u'rap mix', u\"90's \", u'FALL 2013', u'now', u'Summer', u'dank memes', u'Indie', u'Solitude', u'Swing', u'\\U0001f62d\\U0001f62d', u\"Music From Baz Luhrmann's Film The Great Gatsby\", u'Musicals', u'Rap', u'rock', u'Rave', u'*** good stuff', u'CHRISTMAS MUSIC', u'Calming Music', u'West Coast Swing', u'Chillout ', u'LIT!!!!!!!', u\"spring '17\", u'Sad songs', u'DISCOVER', u'dubstep', u'Pearl Jam', u'Working Out', u'Christian Songs', u'Sierre\\xf1o', u'turn up', u'trending', u'Elizabeth', u'Relaxing', u'JAMS', u'Local', u'October 2017', u'in my feels', u'stuff', u'old people', u'Saturn', u'dance yrself clean', u'Brasileiras', u'Reggae', u'Spring 2016', u'Current jams', u'Work', u'Metal', u'Wedding Dance Party', u'bumps', u'Waltz', u'Reception', u'Mixed', u'xmas party', u'Christmas 2016', u'spanish jams', u'ODESZA', u'TBT', u'Winter 2014', u'bird', u'funky', u'Sunrise', u'Good Stuff', u'Rock alternativo', u'mello', u'mood music', u'cheese', u'Samba', u'Songs I Like', u'LUV', u'ATL', u'Britney', u'xx', u'Black', u\"Summer '16\", u'Baby shower', u'Wet Dreamz', u'electronic', u'Kendrick Lamar ', u'SPRANG', u'playlist', u'R & B', u'ease ~', u'I workout!', u'DIEGO$', u'Dubstep ', u'Feels', u'Lit\\U0001f525\\U0001f525', u'Disneyland', u'2K14', u'My music', u'Greatest Hits', u'Lifting ', u'Musica', u' indie rock', u'BUMP', u'Mega Chill', u'Zombies', u'Fun', u'rock songs', u'Road', u'Party mix', u'Ladies', u'On the Run', u'Love', u'14', u'Classical', u'Party Rock!!', u'blue grass', u'Intro', u'2020', u'chill beats', u'happy', u'Elisa', u'Get It!', u'AAA', u'CHRISTMASSSSS', u'Classic Country', u'Bus playlist', u'Peace', u'mine', u'sad', u'Current', u'Cali', u'rap', u\"summer 16'\", u'Country summer', u'Random Tunes', u'Classical favorites', u'my favorite songs', u'My Heart', u'greek', u'Club', u' CHiLl', u'PARTY 1', u'1967', u'Latin Trap', u'POP', u'Girl Power', u'Arab', u'mix', u'mix ', u'Partay', u'work music', u'NICOLE', u'siesta', u'Hungover', u'Rap/Pop', u'mayer', u'lit', u'\\U0001f924\\U0001f924', u'Shape of You', u'Groovy', u'eurotrip', u'shower ', u'Rage', u'Melting Pot', u'roma', u'Julion alvarez', u'My favorites', u'Pump up', u'The Greatest', u'Go To', u'Worship', u'My High-Intensity Workout', u'New Songs', u'Car Party', u'( \\u0361\\xb0 \\u035c\\u0296 \\u0361\\xb0)', u'pg', u'\\U0001f60d\\U0001f60d', u'HALLOWEEN', u'Way Up', u'Workout2', u'High', u'Not Rap', u'Deep Thoughts', u\"80's\", u'Gospel Mix', u'jan 2015', u'Country Favorites', u'bomb', u'Smooth Jazz', u'Seduction', u'July 2013', u'discovered', u'teenage angst', u'Indie Stuff', u\"90's\", u'Slow Stuff', u'Ski', u'slow', u'Mad Men', u'frenchy', u'Workout', u'Old songs ', u'studying music', u'Guilty pleasure', u'folky', u'doo wop', u'Belters', u'take me back', u'boris', u'groovy', u'Camp', u'That New New', u'Summer 2016', u'older songs', u'Punk', u'Turnt', u'go to', u'feels', u'Awesome mix vol. 1', u'car rides', u'feelz', u'Wandering', u'tbd', u'ghetto', u'Zoned', u'WORKOUT', u'Random', u'morning', u'Summer Chill', u'bae', u'hip hop', u'hype', u'Fall 2015', u'Holiday Party', u'summer 2016', u'summer 2015', u'Crossfit', u'Driving', u'Thinking', u'vibin', u'Somber', u'petrichor', u'\\U0001f4b8\\U0001f4b8', u'Rap Songs', u'2000s hits', u'Chidas', u'smooth ', u'Eminem ', u'Homework', u'Garage Rock', u'PT', u'Good songs', u'motown', u'70/80', u'Rock', u'pump', u'halcyon', u'Chill Alternative', u'hitS', u'latin', u'nite', u'Australia Day', u'Tame Impala', u'nashville', u'Florida', u'Grind', u'goldie', u'death', u\"Say You Won't Let Go\", u'Line Dances ', u'kitchen', u'Old songs', u'Dance', u'country', u'quiet', u'car tunes', u'Lit', u'Cody', u'Dark Side', u'Everyday', u'Autumnal ', u\"vibin'\", u'whatever', u'beachy', u'raw', u'Mellow.', u'Disney', u'pregame', u'Relax', u'\\U0001f308\\U0001f308\\U0001f308', u'BEST SONGS EVER', u'PARTY ', u'indie rock ', u'New School', u'Phone', u'Running 2.0', u'#mood', u'Buena Vista Social Club', u'Party time', u'Pump up songs', u'basic', u'upbeat', u'Chill Songs', u'Game Time', u'FNAF', u'empty', u'For You', u'RAP', u'HER', u'Twenty one pilots', u'\\U0001f918\\U0001f3fc', u'cake ', u'More Songs', u'Up Beat', u'Narcos', u'CR', u'DA', u'spin', u'New years', u'chill', u\"fall '17\", u'Musica en espa\\xf1ol', u'Traps ', u'Classic', u'Vibin', u'Disney!', u'Party Playlist', u'Dubstep', u'favs rn', u'<3', u'GET DOWN', u'\\u26a1\\ufe0f\\u26a1\\ufe0f\\u26a1\\ufe0f', u'feel good', u'00s', u'Country Mix', u'Covers', u'Cha Cha', u'Run!!', u'HOOD', u'VIBE', u'Luke', u'Dope', u'Awesome Mix', u'good vibes', u'Mr. Brightside', u'party', u'electro', u'oldies but goodies ', u'80s', u'#chill', u'II', u'running', u'000', u'Hype', u'Cruising', u'YOU', u'Classic Rock', u'roadtrip \\U0001f697', u'ashley', u'Slay', u'EBM', u\"early 2000's\", u'Lulu', u'Mine', u'Rap it up', u'picks', u'PURPLE', u'boat', u'Old School', u'Rent', u'Gold Digger', u'Favorite Songs', u'\\U0001f634\\U0001f634', u'kpop', u'nc', u'Piano Music', u'BOP', u'ol skool', u'OOOUUU', u'PARTY', u'Comedy', u'hayley', u'Reggae/Ska', u'Wedding Cocktail Hour', u'before my time', u'summer country', u'\\u2714\\ufe0f', u'run 2', u'Soulful  ', u'Fallout', u'SARAH', u'Lent', u'Hits', u\"John's Playlist\", u\"Mom's playlist\", u'Throwbacks ', u'old songs ', u'Drake', u\"Road Trippin'\", u'pop', u'English ', u'Thuggin', u'CARDIO', u'Band Music', u'Elliot', u'road trip ', u'OD', u'workout mix', u'Friday afternoon...', u'Drank', u'Wes Anderson', u'Mya', u'Music', u'New jams', u'Breezeblocks', u'Pitch Perfect', u'smooth jams', u'old', u'PARTY PLAYLIST', u'bounce', u'Tropical', u'New', u'Cinco De Mayo', u'Good music ', u'disney bops', u'maY!', u'modern rock', u'classic ', u'bruno mars', u'lean', u'Dancehall', u'everything', u'Dave', u'songs to sing in the shower', u'4/20', u'party music', u'Chris', u'KILLA', u'christmas', u'2000s r&b', u'trap', u'uhhhh', u'Good Day', u'run', u'old but good', u'\\U0001f63b\\U0001f63b', u'I Put A Spell On You', u'JAZZ', u'my songs ', u'Funky', u'Christmas Mix', u'Me Like', u'acoustic', u'throwback', u'Acoustic', u'CHRISTMAS', u'Blackout', u'90s baby', u'Christmas Favorites', u'Top Hits', u'elevator music', u'Prayer', u'party people', u'classics', u'go-to', u'Best', u'Christian music', u'//new', u'Vibe', u'Various Artists \\u2013 Majestic Casual - Chapter I', u'three', u'Everything', u'Corridos', u'wrap', u'NEW', u'Korean', u'Latino', u'Best EDM', u'4th of july', u'Oldies', u'Heat', u'Christmas Time', u'NB', u'hey', u'Wedding Dance Music', u'Amy', u'house', u'Clubbin', u'My hits', u'The Piano Guys', u'Chill', u'shower', u'Congratulations', u'\\U0001f483\\U0001f3fd', u'Sundays', u'Daddy Issues', u'brad paisley ', u'dad songs', u'~Rando~', u'My baby', u'Emotional', u'Deb', u'ha', u'YEET', u'rap god', u'New ish', u'LITT ', u'Summer 2014', u'Office', u'Awesome Playlist', u'Chill Out Music', u'Awesome', u'Fire', u'Britt', u'angst', u'Best of 2016', u'Helene', u'Dancing on my own', u'Blues', u'MY FAV', u'Salsa clasica', u'new stuff', u'HARDCORE WORKOUT', u'classic', u'flow', u'Cinderella', u'deep', u'Roadtrip', u'FUN', u'old country ', u'Rap Classics', u'Pop', u'R&B classics', u'Love Music', u'Alternativo ', u'All the songs', u'Baby Making', u'yoga', u'no', u'bored', u'abby ', u'The Good Stuff', u'chill  ', u'Instrumental', u'Running', u'MERICA', u'Fix You', u'Inspiration', u\"Killin' It\", u'hoe anthems', u'AA', u'reggae', u'poop', u'Country', u'((chris))', u'Mumford & Sons', u'june', u'Cash', u'my country', u'Hyphy', u'Shower', u'chill time', u'country 2017', u'SUMMER 2k17', u'Madness', u'Main Playlist', u'Walking on Sunshine', u\"Vibin'\", u'INDY', u'Yeah', u'karaoke.', u\"2000's \", u'Sleep', u\"1980's\", u'Spanish', u'Thug', u\"It's Christmas Time!\", u'Runaway']\n",
      "\n",
      "[u'summer', u'Christmas songs ', u'Love ', u'Pregame', u'dance', u'ouch', u'fuego', u'Songs I Love', u'Dance mix', u'throw backs', u'Reggaeton', u'Workout', u'chill out', u'Good Times', u'tb', u'Top hits', u'Take Me Back', u'Sugar', u'country ', u'Move', u'Tom Petty', u'Neo', u'Sleep~', u'old', u'\\U0001f595\\U0001f3fb', u'Baes', u'vibin', u'summer16', u'Kickin it', u'slow hands', u'recommendations !! ', u'Throwback', u'housewarming', u'joSe :)', u'Up', u'run it', u'kayla', u'Reception', u'Rock', u'Summer Country', u'Xmas', u'Silence', u'\\U0001f525\\U0001f525\\U0001f525\\U0001f525', u'summer 2k17', u'country', u'Dusk', u'old school', u'Alternative', u'Worship', u'#Workout', u'Running 2', u'GOOD MUSIC ', u'Mashup', u'spanish ', u'Christmas music', u'Willie', u'SpRiNg BrEaK', u'classical', u'Relax', u'Cancun', u'boujee', u'summer 17', u'L O V E ', u'music', u'Tripping', u'rawr', u'.jams.', u'BBG', u'for you', u'best christmas', u'mellow', u'Summer 2016', u'Classical', u'will', u'WORSHIP', u'Mia', u'mixtape', u'90s hits', u'Main', u'Alt Jams', u'art class', u'GUACAMOLE', u'Edward Sharpe & The Magnetic Zeros', u'lit', u'Isis', u'songs to dance to', u'Country', u'Pump up', u'Kyle', u'April', u'My happy place', u'Cruisin', u'Gates', u\"1990's \", u'english']\n"
     ]
    }
   ],
   "source": [
    "train_playlist_name = list(set(train_df['name']))\n",
    "test_playlist_name = list(set(test_df['name']))\n",
    "\n",
    "print train_playlist_name\n",
    "print\n",
    "print test_playlist_name"
   ]
  },
  {
   "cell_type": "code",
   "execution_count": 15,
   "metadata": {},
   "outputs": [
    {
     "data": {
      "text/plain": [
       "[u'Legendary',\n",
       " u'trap',\n",
       " u'Phone',\n",
       " u'4th of july',\n",
       " u'Twenty one pilots',\n",
       " u'Chillout ',\n",
       " u'spring 16',\n",
       " u'Deb',\n",
       " u'Salsa clasica',\n",
       " u'hayley']"
      ]
     },
     "execution_count": 15,
     "metadata": {},
     "output_type": "execute_result"
    }
   ],
   "source": [
    "rand_items = random.sample(train_playlist_name,10)\n",
    "rand_items"
   ]
  },
  {
   "cell_type": "markdown",
   "metadata": {},
   "source": [
    "<h3> random_playlist_recom </h3>"
   ]
  },
  {
   "cell_type": "code",
   "execution_count": 45,
   "metadata": {
    "collapsed": true
   },
   "outputs": [
    {
     "name": "stdout",
     "output_type": "stream",
     "text": [
      "1\n",
      "2\n",
      "3\n",
      "4\n",
      "5\n",
      "6\n",
      "7\n",
      "8\n",
      "9\n",
      "10\n",
      "11\n",
      "12\n",
      "13\n",
      "14\n",
      "15\n",
      "16\n",
      "17\n",
      "18\n",
      "19\n",
      "20\n",
      "21\n",
      "22\n",
      "23\n",
      "24\n",
      "25\n",
      "26\n",
      "27\n",
      "28\n",
      "29\n",
      "30\n",
      "31\n",
      "32\n",
      "33\n",
      "34\n",
      "35\n",
      "36\n",
      "37\n",
      "38\n",
      "39\n",
      "40\n",
      "41\n",
      "42\n",
      "43\n",
      "44\n",
      "45\n",
      "46\n",
      "47\n",
      "48\n",
      "49\n",
      "50\n",
      "51\n",
      "52\n",
      "53\n",
      "54\n",
      "55\n",
      "56\n",
      "57\n",
      "58\n",
      "59\n",
      "60\n",
      "61\n",
      "62\n",
      "63\n",
      "64\n",
      "65\n",
      "66\n",
      "67\n",
      "68\n",
      "69\n",
      "70\n",
      "71\n",
      "72\n",
      "73\n",
      "74\n",
      "75\n",
      "76\n",
      "77\n",
      "78\n",
      "79\n",
      "80\n",
      "81\n",
      "82\n",
      "83\n",
      "84\n",
      "85\n",
      "86\n",
      "87\n",
      "88\n",
      "89\n",
      "90\n",
      "91\n",
      "92\n",
      "93\n",
      "94\n",
      "95\n"
     ]
    }
   ],
   "source": [
    "c = 0\n",
    "count = 0\n",
    "for name in test_playlist_name:\n",
    "    count += 1\n",
    "    print count\n",
    "    test_playlist = []\n",
    "    for idx in range(0, len(test_df['name'])):\n",
    "        if(test_df['name'][idx] == name):\n",
    "            test = pd.DataFrame(test_df['tracks'][idx])\n",
    "            test_playlist += list(test['track_uri'])\n",
    "            \n",
    "    random_train_playlist_name = random.sample(train_playlist_name, 10)\n",
    "    train_playlist = []\n",
    "    for train_name in random_train_playlist_name:\n",
    "        for idx in range(0, len(train_df['name'])):\n",
    "            if(train_df['name'][idx] == train_name):\n",
    "                train = pd.DataFrame(train_df['tracks'][idx])\n",
    "                temp =[]\n",
    "                if(len(train_playlist) >= 500):\n",
    "                    continue\n",
    "                elif(len(train_playlist) + len(list(train['track_uri'])) >= 500):\n",
    "                    temp = list(train['track_uri'])\n",
    "                    train_playlist += temp[:-(len(train_playlist)-500)]\n",
    "                else:\n",
    "                    train_playlist += list(train['track_uri'])\n",
    "                \n",
    "    c +=1.0 *len(set(train_playlist).intersection(set(test_playlist)))/len(set(test_playlist)) *100\n",
    "    \n",
    "    \n",
    "c = 1.0 * c/ count"
   ]
  },
  {
   "cell_type": "code",
   "execution_count": 46,
   "metadata": {},
   "outputs": [
    {
     "data": {
      "text/plain": [
       "4.642460450834102"
      ]
     },
     "execution_count": 46,
     "metadata": {},
     "output_type": "execute_result"
    }
   ],
   "source": [
    "c"
   ]
  },
  {
   "cell_type": "code",
   "execution_count": null,
   "metadata": {
    "collapsed": true
   },
   "outputs": [],
   "source": []
  }
 ],
 "metadata": {
  "kernelspec": {
   "display_name": "Python 2",
   "language": "python",
   "name": "python2"
  },
  "language_info": {
   "codemirror_mode": {
    "name": "ipython",
    "version": 2
   },
   "file_extension": ".py",
   "mimetype": "text/x-python",
   "name": "python",
   "nbconvert_exporter": "python",
   "pygments_lexer": "ipython2",
   "version": "2.7.12"
  }
 },
 "nbformat": 4,
 "nbformat_minor": 2
}
