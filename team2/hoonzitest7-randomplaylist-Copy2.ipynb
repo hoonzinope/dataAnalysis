{
 "cells": [
  {
   "cell_type": "code",
   "execution_count": 3,
   "metadata": {
    "collapsed": true
   },
   "outputs": [],
   "source": [
    "import numpy as np\n",
    "import pandas as pd\n",
    "import json\n",
    "from pandas.io.json import json_normalize\n",
    "from sklearn.model_selection import train_test_split\n",
    "import random"
   ]
  },
  {
   "cell_type": "code",
   "execution_count": 4,
   "metadata": {
    "collapsed": true
   },
   "outputs": [],
   "source": [
    "def make_category_1(file_path):\n",
    "\n",
    "\n",
    "    f = open(file_path).read()\n",
    "    data = json.loads(f)\n",
    "    playlists = data[\"playlists\"]\n",
    "    df = pd.DataFrame(playlists)\n",
    "    train, test = train_test_split(df, test_size=0.1)\n",
    "\n",
    "    r_test_data = {'pid' : list(test['pid']), 'name' : list(test['name']), 'num_holdouts' : list(test['num_tracks']), 'tracks' : [{} for _ in range(test.shape[0])], 'num_samples' : [0 for _ in range(test.shape[0])], 'num_tracks' : test['num_tracks']}\n",
    "    r_test = pd.DataFrame(r_test_data)\n",
    "    \n",
    "    train = train.T.to_dict().values()\n",
    "    test = test.T.to_dict().values()\n",
    "    r_test = r_test.T.to_dict().values()\n",
    "    \n",
    "    with open('./train.json', 'w+') as f:\n",
    "        f.write(json.dumps(train))\n",
    "    with open('./test_R.json', 'w+') as f:\n",
    "        f.write(json.dumps(test))\n",
    "    with open('./test.json', 'w+') as f:\n",
    "        f.write(json.dumps(r_test))\n",
    "        \n",
    "        \n",
    "make_category_1('mpd.slice.0-999.json')"
   ]
  },
  {
   "cell_type": "markdown",
   "metadata": {},
   "source": [
    "<h1> Train_set </h1>"
   ]
  },
  {
   "cell_type": "code",
   "execution_count": 5,
   "metadata": {
    "collapsed": true
   },
   "outputs": [],
   "source": [
    "f = open('./train.json').read()\n",
    "data = json.loads(f)\n",
    "train_df = pd.DataFrame(data)"
   ]
  },
  {
   "cell_type": "markdown",
   "metadata": {},
   "source": [
    "<h1> Test_set </h1>"
   ]
  },
  {
   "cell_type": "code",
   "execution_count": 6,
   "metadata": {
    "collapsed": true
   },
   "outputs": [],
   "source": [
    "f = open('./test_R.json').read()\n",
    "data = json.loads(f)\n",
    "test_df = pd.DataFrame(data)"
   ]
  },
  {
   "cell_type": "markdown",
   "metadata": {},
   "source": [
    "<h1> Train_set_name & Test_set_name </h1>"
   ]
  },
  {
   "cell_type": "code",
   "execution_count": 16,
   "metadata": {
    "collapsed": true,
    "scrolled": true
   },
   "outputs": [],
   "source": [
    "train_playlist_name = list(set(train_df['name']))\n",
    "test_playlist_name = list(set(test_df['name']))"
   ]
  },
  {
   "cell_type": "code",
   "execution_count": 15,
   "metadata": {},
   "outputs": [
    {
     "data": {
      "text/plain": [
       "[u'Legendary',\n",
       " u'trap',\n",
       " u'Phone',\n",
       " u'4th of july',\n",
       " u'Twenty one pilots',\n",
       " u'Chillout ',\n",
       " u'spring 16',\n",
       " u'Deb',\n",
       " u'Salsa clasica',\n",
       " u'hayley']"
      ]
     },
     "execution_count": 15,
     "metadata": {},
     "output_type": "execute_result"
    }
   ],
   "source": [
    "rand_items = random.sample(train_playlist_name,10)\n",
    "rand_items"
   ]
  },
  {
   "cell_type": "markdown",
   "metadata": {},
   "source": [
    "<h3> random_playlist_recom </h3>"
   ]
  },
  {
   "cell_type": "code",
   "execution_count": 25,
   "metadata": {
    "scrolled": true
   },
   "outputs": [
    {
     "name": "stdout",
     "output_type": "stream",
     "text": [
      "precision : 0.390421149961\n",
      "recall : 3.97353897845\n",
      "f1score : 0.710984340706\n"
     ]
    }
   ],
   "source": [
    "precision = 0\n",
    "recall = 0\n",
    "f1score = 0\n",
    "count = 0\n",
    "for name in test_playlist_name:\n",
    "    count += 1\n",
    "    #print count\n",
    "    test_playlist = []\n",
    "    for idx in range(0, len(test_df['name'])):\n",
    "        if(test_df['name'][idx] == name):\n",
    "            test = pd.DataFrame(test_df['tracks'][idx])\n",
    "            test_playlist += list(test['track_uri'])\n",
    "            \n",
    "    random_train_playlist_name = random.sample(train_playlist_name, 10)\n",
    "    train_playlist = []\n",
    "    for train_name in random_train_playlist_name:\n",
    "        for idx in range(0, len(train_df['name'])):\n",
    "            if(train_df['name'][idx] == train_name):\n",
    "                train = pd.DataFrame(train_df['tracks'][idx])\n",
    "                #temp =[]\n",
    "                #if(len(train_playlist) >= 500):\n",
    "                 #   continue\n",
    "                #elif(len(train_playlist) + len(list(train['track_uri'])) >= 500):\n",
    "                 #   temp = list(train['track_uri'])\n",
    "                 #   train_playlist += temp[:-(len(train_playlist)-500)]\n",
    "                #else:\n",
    "                train_playlist += list(train['track_uri'])\n",
    "                \n",
    "    precision += 1\n",
    "    .0 *len(set(train_playlist).intersection(set(test_playlist)))/len(set(train_playlist)) *100\n",
    "    recall += 1.0 * len(set(train_playlist).\n",
    "                            intersection(set(test_playlist)))/len(set(test_playlist))*100\n",
    "\n",
    "precision = 1.0 * precision/ (count)\n",
    "recall = 1.0 * recall / count\n",
    "f1score = (2 * precision * recall) / (precision + recall)\n",
    "print \"precision : {}\\nrecall : {}\\nf1score : {}\".format(precision, recall, f1score)"
   ]
  },
  {
   "cell_type": "code",
   "execution_count": null,
   "metadata": {
    "collapsed": true
   },
   "outputs": [],
   "source": []
  },
  {
   "cell_type": "code",
   "execution_count": null,
   "metadata": {
    "collapsed": true
   },
   "outputs": [],
   "source": []
  }
 ],
 "metadata": {
  "kernelspec": {
   "display_name": "Python 2",
   "language": "python",
   "name": "python2"
  },
  "language_info": {
   "codemirror_mode": {
    "name": "ipython",
    "version": 2
   },
   "file_extension": ".py",
   "mimetype": "text/x-python",
   "name": "python",
   "nbconvert_exporter": "python",
   "pygments_lexer": "ipython2",
   "version": "2.7.12"
  }
 },
 "nbformat": 4,
 "nbformat_minor": 2
}
