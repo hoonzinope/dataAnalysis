{
 "cells": [
  {
   "cell_type": "code",
   "execution_count": 5,
   "metadata": {},
   "outputs": [
    {
     "name": "stdout",
     "output_type": "stream",
     "text": [
      "mpd.slice.728000-728999.json\n",
      "mpd.slice.955000-955999.json\n",
      "mpd.slice.877000-877999.json\n"
     ]
    }
   ],
   "source": [
    "import os\n",
    "import numpy as np\n",
    "import pandas as pd\n",
    "import json\n",
    "from pandas.io.json import json_normalize\n",
    "from sklearn.model_selection import train_test_split\n",
    "\n",
    "path_dir = '/root/team2/data_test'\n",
    "file_list = os.listdir(path_dir)\n",
    "\n",
    "import json\n",
    "head = []\n",
    "count = 0\n",
    "for f in file_list:\n",
    "    print f\n",
    "    with open(\"/root/team2/data_test/\"+f, 'rb') as infile:\n",
    "        file_data = json.load(infile) \n",
    "        playlist = file_data['playlists']\n",
    "        df = pd.DataFrame(playlist)\n",
    "        head += [df]\n",
    "        count += 1\n",
    "        if(count == 3):\n",
    "            break;\n",
    "df = pd.concat(head, ignore_index = True)"
   ]
  },
  {
   "cell_type": "markdown",
   "metadata": {},
   "source": [
    "# data=5000"
   ]
  },
  {
   "cell_type": "code",
   "execution_count": 4,
   "metadata": {},
   "outputs": [
    {
     "name": "stdout",
     "output_type": "stream",
     "text": [
      "\n",
      "0th try....\n",
      "precision : 0.00518474271025\n",
      "recall : 0.0295714735746\n",
      "f1score : 0.00882262216294\n",
      "\n",
      "1th try....\n",
      "precision : 0.00451717650804\n",
      "recall : 0.0317057273205\n",
      "f1score : 0.00790772420127\n",
      "\n",
      "2th try....\n",
      "precision : 0.00448594368518\n",
      "recall : 0.0350221063187\n",
      "f1score : 0.00795317393122\n",
      "\n",
      "3th try....\n",
      "precision : 0.00447094948144\n",
      "recall : 0.0333325296902\n",
      "f1score : 0.00788435665705\n",
      "\n",
      "4th try....\n"
     ]
    },
    {
     "ename": "KeyboardInterrupt",
     "evalue": "",
     "output_type": "error",
     "traceback": [
      "\u001b[0;31m\u001b[0m",
      "\u001b[0;31mKeyboardInterrupt\u001b[0mTraceback (most recent call last)",
      "\u001b[0;32m<ipython-input-4-816a111eca6e>\u001b[0m in \u001b[0;36m<module>\u001b[0;34m()\u001b[0m\n\u001b[1;32m     37\u001b[0m         \u001b[0;32mfor\u001b[0m \u001b[0mtrain_name\u001b[0m \u001b[0;32min\u001b[0m \u001b[0mrandom_train_playlist_name\u001b[0m\u001b[0;34m:\u001b[0m\u001b[0;34m\u001b[0m\u001b[0m\n\u001b[1;32m     38\u001b[0m             \u001b[0;32mfor\u001b[0m \u001b[0midx\u001b[0m \u001b[0;32min\u001b[0m \u001b[0mrange\u001b[0m\u001b[0;34m(\u001b[0m\u001b[0;36m0\u001b[0m\u001b[0;34m,\u001b[0m \u001b[0mlen\u001b[0m\u001b[0;34m(\u001b[0m\u001b[0mtrain_df\u001b[0m\u001b[0;34m[\u001b[0m\u001b[0;34m'name'\u001b[0m\u001b[0;34m]\u001b[0m\u001b[0;34m)\u001b[0m\u001b[0;34m)\u001b[0m\u001b[0;34m:\u001b[0m\u001b[0;34m\u001b[0m\u001b[0m\n\u001b[0;32m---> 39\u001b[0;31m                 \u001b[0;32mif\u001b[0m\u001b[0;34m(\u001b[0m\u001b[0mtrain_df\u001b[0m\u001b[0;34m[\u001b[0m\u001b[0;34m'name'\u001b[0m\u001b[0;34m]\u001b[0m\u001b[0;34m[\u001b[0m\u001b[0midx\u001b[0m\u001b[0;34m]\u001b[0m \u001b[0;34m==\u001b[0m \u001b[0mtrain_name\u001b[0m\u001b[0;34m)\u001b[0m\u001b[0;34m:\u001b[0m\u001b[0;34m\u001b[0m\u001b[0m\n\u001b[0m\u001b[1;32m     40\u001b[0m                     \u001b[0mtrain\u001b[0m \u001b[0;34m=\u001b[0m \u001b[0mpd\u001b[0m\u001b[0;34m.\u001b[0m\u001b[0mDataFrame\u001b[0m\u001b[0;34m(\u001b[0m\u001b[0mtrain_df\u001b[0m\u001b[0;34m[\u001b[0m\u001b[0;34m'tracks'\u001b[0m\u001b[0;34m]\u001b[0m\u001b[0;34m[\u001b[0m\u001b[0midx\u001b[0m\u001b[0;34m]\u001b[0m\u001b[0;34m)\u001b[0m\u001b[0;34m\u001b[0m\u001b[0m\n\u001b[1;32m     41\u001b[0m                     \u001b[0mtemp\u001b[0m \u001b[0;34m=\u001b[0m\u001b[0;34m[\u001b[0m\u001b[0;34m]\u001b[0m\u001b[0;34m\u001b[0m\u001b[0m\n",
      "\u001b[0;32m/usr/local/lib/python2.7/dist-packages/pandas/core/series.pyc\u001b[0m in \u001b[0;36m__getitem__\u001b[0;34m(self, key)\u001b[0m\n\u001b[1;32m    598\u001b[0m     \u001b[0;32mdef\u001b[0m \u001b[0m__getitem__\u001b[0m\u001b[0;34m(\u001b[0m\u001b[0mself\u001b[0m\u001b[0;34m,\u001b[0m \u001b[0mkey\u001b[0m\u001b[0;34m)\u001b[0m\u001b[0;34m:\u001b[0m\u001b[0;34m\u001b[0m\u001b[0m\n\u001b[1;32m    599\u001b[0m         \u001b[0mkey\u001b[0m \u001b[0;34m=\u001b[0m \u001b[0mcom\u001b[0m\u001b[0;34m.\u001b[0m\u001b[0m_apply_if_callable\u001b[0m\u001b[0;34m(\u001b[0m\u001b[0mkey\u001b[0m\u001b[0;34m,\u001b[0m \u001b[0mself\u001b[0m\u001b[0;34m)\u001b[0m\u001b[0;34m\u001b[0m\u001b[0m\n\u001b[0;32m--> 600\u001b[0;31m         \u001b[0;32mtry\u001b[0m\u001b[0;34m:\u001b[0m\u001b[0;34m\u001b[0m\u001b[0m\n\u001b[0m\u001b[1;32m    601\u001b[0m             \u001b[0mresult\u001b[0m \u001b[0;34m=\u001b[0m \u001b[0mself\u001b[0m\u001b[0;34m.\u001b[0m\u001b[0mindex\u001b[0m\u001b[0;34m.\u001b[0m\u001b[0mget_value\u001b[0m\u001b[0;34m(\u001b[0m\u001b[0mself\u001b[0m\u001b[0;34m,\u001b[0m \u001b[0mkey\u001b[0m\u001b[0;34m)\u001b[0m\u001b[0;34m\u001b[0m\u001b[0m\n\u001b[1;32m    602\u001b[0m \u001b[0;34m\u001b[0m\u001b[0m\n",
      "\u001b[0;31mKeyboardInterrupt\u001b[0m: "
     ]
    }
   ],
   "source": [
    "import random\n",
    "k = 10\n",
    "kfold = [df[i:i + len(df)/k] for i in xrange(0, len(df), len(df)/k)]\n",
    "\n",
    "max_f1score = 0\n",
    "min_f1score = 1\n",
    "average_f1score = 0\n",
    "for idx in range(0, k):\n",
    "    print \"\\n{}th try....\".format(idx)\n",
    "    test_df = kfold[idx].reset_index()\n",
    "    \n",
    "    train_df = []\n",
    "    for tidx in range(0, k):\n",
    "        if(tidx == idx):\n",
    "            continue\n",
    "        train_df += [kfold[tidx]]\n",
    "    train_df = pd.concat(train_df, ignore_index = True)\n",
    "    \n",
    "    train_playlist_name = list(set(train_df['name']))\n",
    "    test_playlist_name = list(set(test_df['name']))\n",
    "    \n",
    "    precision = 0\n",
    "    recall = 0\n",
    "    f1score = 0\n",
    "    count = 0\n",
    "    for name in test_playlist_name:\n",
    "        count += 1\n",
    "        #print count\n",
    "        test_playlist = []\n",
    "        for idx in range(0, len(test_df['name'])):\n",
    "            if(test_df['name'][idx] == name):\n",
    "                test = pd.DataFrame(test_df['tracks'][idx])\n",
    "                test_playlist += list(test['track_uri'])\n",
    "\n",
    "        random_train_playlist_name = random.sample(train_playlist_name, 10)\n",
    "        train_playlist = []\n",
    "        for train_name in random_train_playlist_name:\n",
    "            for idx in range(0, len(train_df['name'])):\n",
    "                if(train_df['name'][idx] == train_name):\n",
    "                    train = pd.DataFrame(train_df['tracks'][idx])\n",
    "                    temp =[]\n",
    "                    if(len(train_playlist) >= 500):\n",
    "                        continue\n",
    "                    elif(len(train_playlist) + len(list(train['track_uri'])) >= 500):\n",
    "                        temp = list(train['track_uri'])\n",
    "                        train_playlist += temp[:-(len(train_playlist)-500)]\n",
    "                    else:\n",
    "                        train_playlist += list(train['track_uri'])\n",
    "\n",
    "        precision += 1.0 *len(set(train_playlist).intersection(set(test_playlist)))/len(set(train_playlist))\n",
    "        recall += 1.0 * len(set(train_playlist).\n",
    "                                intersection(set(test_playlist)))/len(set(test_playlist))\n",
    "\n",
    "    precision = 1.0 * precision/ (count)\n",
    "    recall = 1.0 * recall / count\n",
    "    f1score = (2 * precision * recall) / (precision + recall)\n",
    "    print \"precision : {}\\nrecall : {}\\nf1score : {}\".format(precision, recall, f1score)\n",
    "    \n",
    "    if(min_f1score > f1score):\n",
    "        min_f1score = f1score\n",
    "    if(max_f1score < f1score):\n",
    "        max_f1score = f1score\n",
    "    \n",
    "    average_f1score += f1score\n",
    "\n",
    "average_f1score = average_f1score/10\n",
    "print \"minF1score : {}, maxF1score: {}, averageF1score: {}\".format(min_f1score, max_f1score, average_f1score)"
   ]
  },
  {
   "cell_type": "code",
   "execution_count": null,
   "metadata": {
    "collapsed": true
   },
   "outputs": [],
   "source": []
  }
 ],
 "metadata": {
  "kernelspec": {
   "display_name": "Python 2",
   "language": "python",
   "name": "python2"
  },
  "language_info": {
   "codemirror_mode": {
    "name": "ipython",
    "version": 2
   },
   "file_extension": ".py",
   "mimetype": "text/x-python",
   "name": "python",
   "nbconvert_exporter": "python",
   "pygments_lexer": "ipython2",
   "version": "2.7.12"
  }
 },
 "nbformat": 4,
 "nbformat_minor": 2
}
